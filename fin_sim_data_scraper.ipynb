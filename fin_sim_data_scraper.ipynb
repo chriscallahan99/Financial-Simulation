{
 "cells": [
  {
   "cell_type": "code",
   "execution_count": 61,
   "id": "e52b928e",
   "metadata": {},
   "outputs": [],
   "source": [
    "import requests\n",
    "from bs4 import BeautifulSoup"
   ]
  },
  {
   "cell_type": "code",
   "execution_count": 62,
   "id": "ffe8e62d",
   "metadata": {},
   "outputs": [],
   "source": [
    "page = requests.get(\"https://fred.stlouisfed.org/series/A939RX0Q048SBEA\")\n",
    "page2 = requests.get(\"https://fred.stlouisfed.org/series/MORTGAGE30US\")\n",
    "page3 = requests.get(\"https://fred.stlouisfed.org/series/MSPUS\")\n",
    "page4 = requests.get(\"https://fred.stlouisfed.org/series/DPI\")\n",
    "page5 = requests.get(\"https://fred.stlouisfed.org/series/PSAVERT\")"
   ]
  },
  {
   "cell_type": "code",
   "execution_count": 63,
   "id": "aa8421d0",
   "metadata": {},
   "outputs": [],
   "source": [
    "fred_gdp_per_cap = BeautifulSoup(page.content, 'html.parser')\n",
    "fred_mortgage = BeautifulSoup(page2.content, 'html.parser')\n",
    "fred_us_house_price = BeautifulSoup(page3.content, 'html.parser')\n",
    "fred_disposable_inc = BeautifulSoup(page4.content, 'html.parser')\n",
    "fred_savings_rate = BeautifulSoup(page5.content, 'html.parser')"
   ]
  },
  {
   "cell_type": "code",
   "execution_count": 64,
   "id": "ee263ec7",
   "metadata": {},
   "outputs": [],
   "source": [
    "gdp_per_cap = [e.get_text() for e in fred_gdp_per_cap.select('.container .series-meta-observation-value')]\n",
    "date_of_data = [e.get_text() for e in fred_gdp_per_cap.select('.container .series-meta-value')]"
   ]
  },
  {
   "cell_type": "code",
   "execution_count": 65,
   "id": "2b0e0c43",
   "metadata": {},
   "outputs": [
    {
     "name": "stdout",
     "output_type": "stream",
     "text": [
      "$58,759 as of Q3 2021:\n"
     ]
    }
   ],
   "source": [
    "print(\"$\" + gdp_per_cap[0] + \" as of \" + date_of_data[0])"
   ]
  },
  {
   "cell_type": "code",
   "execution_count": 66,
   "id": "3a086868",
   "metadata": {},
   "outputs": [
    {
     "name": "stdout",
     "output_type": "stream",
     "text": [
      "3.45\n"
     ]
    }
   ],
   "source": [
    "mortgage_rate = [e.get_text() for e in fred_mortgage.select('.container .series-meta-observation-value')]\n",
    "print(mortgage_rate[0])"
   ]
  },
  {
   "cell_type": "code",
   "execution_count": 67,
   "id": "bc2d9b82",
   "metadata": {},
   "outputs": [
    {
     "name": "stdout",
     "output_type": "stream",
     "text": [
      "404,700\n"
     ]
    }
   ],
   "source": [
    "med_house_price = [e.get_text() for e in fred_us_house_price.select('.container .series-meta-observation-value')]\n",
    "print(med_house_price[0])"
   ]
  },
  {
   "cell_type": "code",
   "execution_count": 68,
   "id": "e5bcd269",
   "metadata": {},
   "outputs": [
    {
     "name": "stdout",
     "output_type": "stream",
     "text": [
      "18,174.130\n"
     ]
    }
   ],
   "source": [
    "av_disposable_inc = [e.get_text() for e in fred_disposable_inc.select('.container .series-meta-observation-value')]\n",
    "print(av_disposable_inc[0])"
   ]
  },
  {
   "cell_type": "code",
   "execution_count": 69,
   "id": "e223026b",
   "metadata": {},
   "outputs": [
    {
     "name": "stdout",
     "output_type": "stream",
     "text": [
      "6.9\n"
     ]
    }
   ],
   "source": [
    "saving_rate = [e.get_text() for e in fred_savings_rate.select('.container .series-meta-observation-value')]\n",
    "print(saving_rate[0])"
   ]
  },
  {
   "cell_type": "code",
   "execution_count": 82,
   "id": "06a51c9f",
   "metadata": {},
   "outputs": [],
   "source": [
    "disp_inc_float = float(av_disposable_inc[0].replace(',', ''))"
   ]
  },
  {
   "cell_type": "code",
   "execution_count": 83,
   "id": "946a2b84",
   "metadata": {},
   "outputs": [
    {
     "name": "stdout",
     "output_type": "stream",
     "text": [
      "1254.0149700000002\n"
     ]
    }
   ],
   "source": [
    "amount_saved_per_year = float(disp_inc_float) * float(saving_rate[0])/100\n",
    "print(amount_saved_per_year)"
   ]
  },
  {
   "cell_type": "code",
   "execution_count": null,
   "id": "bc1d6168",
   "metadata": {},
   "outputs": [],
   "source": []
  }
 ],
 "metadata": {
  "kernelspec": {
   "display_name": "Python 3 (ipykernel)",
   "language": "python",
   "name": "python3"
  },
  "language_info": {
   "codemirror_mode": {
    "name": "ipython",
    "version": 3
   },
   "file_extension": ".py",
   "mimetype": "text/x-python",
   "name": "python",
   "nbconvert_exporter": "python",
   "pygments_lexer": "ipython3",
   "version": "3.9.7"
  }
 },
 "nbformat": 4,
 "nbformat_minor": 5
}
